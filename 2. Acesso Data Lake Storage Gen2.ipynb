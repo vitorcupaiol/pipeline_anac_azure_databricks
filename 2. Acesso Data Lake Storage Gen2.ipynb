{
 "cells": [
  {
   "cell_type": "markdown",
   "metadata": {
    "application/vnd.databricks.v1+cell": {
     "cellMetadata": {},
     "inputWidgets": {},
     "nuid": "33db89d5-8d06-4d8c-bae4-423e7f1a06a9",
     "showTitle": false,
     "title": ""
    }
   },
   "source": [
    "Referencia:\n",
    "\n",
    "Conectar-se ao Azure Data Lake Storage Gen2 e ao Armazenamento de Blobs:\n",
    "https://learn.microsoft.com/pt-br/azure/databricks/storage/azure-storage\n",
    "\n",
    "Montar o ADLS Gen2 ou o Armazenamento de Blobs com o ABFS:\n",
    "https://learn.microsoft.com/pt-br/azure/databricks/dbfs/mounts\n",
    "\n",
    "\n",
    "Obs diferença de DBFS E ABFS:\n",
    "\n",
    "DBFS (Databricks File System): treinamos em Community\n",
    "\n",
    "ABFS (Azure Blob Storage File System) : Arquivos em Nuvem"
   ]
  },
  {
   "cell_type": "code",
   "execution_count": 0,
   "metadata": {
    "application/vnd.databricks.v1+cell": {
     "cellMetadata": {},
     "inputWidgets": {},
     "nuid": "a4a13771-3d7a-47d9-be67-64cfb30f9fec",
     "showTitle": false,
     "title": ""
    }
   },
   "outputs": [],
   "source": [
    "\n",
    "#Config Padrão\n",
    "\n",
    "configs = {\"fs.azure.account.auth.type\": \"OAuth\",\n",
    "          \"fs.azure.account.oauth.provider.type\": \"org.apache.hadoop.fs.azurebfs.oauth2.ClientCredsTokenProvider\",\n",
    "          \"fs.azure.account.oauth2.client.id\": \"<application-id>\",\n",
    "          \"fs.azure.account.oauth2.client.secret\": dbutils.secrets.get(scope=\"<scope-name>\",key=\"<service-credential-key-name>\"),\n",
    "          \"fs.azure.account.oauth2.client.endpoint\": \"https://login.microsoftonline.com/<directory-id>/oauth2/token\"}\n",
    "\n",
    "# Optionally, you can add <directory-name> to the source URI of your mount point.\n",
    "dbutils.fs.mount(\n",
    "  source = \"abfss://<container-name>@<storage-account-name>.dfs.core.windows.net/\",\n",
    "  mount_point = \"/mnt/<mount-name>\",\n",
    "  extra_configs = configs)\n",
    "\n",
    "#Substitua\n",
    "\n",
    "#<application-id> com a ID de aplicativo (cliente) para o aplicativo do Azure Active Directory.\n",
    "#<scope-name> pelo nome do escopo de segredo do Databricks.\n",
    "#<service-credential-key-name> com o nome da chave que contém o segredo do cliente.\n",
    "#<directory-id> com a ID do Diretório (locatário) ID para o aplicativo do Azure Active Directory.\n",
    "#<container-name> pelo nome de um contêiner na conta de armazenamento do ADLS Gen2.\n",
    "#<storage-account-name> pelo nome da conta de armazenamento do ADLS Gen2.\n",
    "#<mount-name> com o nome do ponto de montagem pretendido no DBFS."
   ]
  },
  {
   "cell_type": "markdown",
   "metadata": {
    "application/vnd.databricks.v1+cell": {
     "cellMetadata": {},
     "inputWidgets": {},
     "nuid": "96139ecb-ba32-4f15-b15b-7c8bc1793c2c",
     "showTitle": false,
     "title": ""
    }
   },
   "source": [
    "Montando Armazenamento \n"
   ]
  },
  {
   "cell_type": "code",
   "execution_count": 0,
   "metadata": {
    "application/vnd.databricks.v1+cell": {
     "cellMetadata": {},
     "inputWidgets": {},
     "nuid": "e612649e-fea4-4e2e-8486-31fb81ec6302",
     "showTitle": false,
     "title": ""
    }
   },
   "outputs": [],
   "source": [
    "# criar uma \"pasta no Dantabricks para fazer vinculo\""
   ]
  },
  {
   "cell_type": "code",
   "execution_count": 0,
   "metadata": {
    "application/vnd.databricks.v1+cell": {
     "cellMetadata": {
      "byteLimit": 2048000,
      "rowLimit": 10000
     },
     "inputWidgets": {},
     "nuid": "f74dfcac-7cd8-4584-a655-3c8c80aaaeb3",
     "showTitle": false,
     "title": ""
    }
   },
   "outputs": [],
   "source": [
    "%fs mkdirs /mnt/SuaPasta"
   ]
  }
 ],
 "metadata": {
  "application/vnd.databricks.v1+notebook": {
   "dashboards": [],
   "language": "python",
   "notebookMetadata": {
    "mostRecentlyExecutedCommandWithImplicitDF": {
     "commandId": 4378362587563715,
     "dataframes": [
      "_sqldf"
     ]
    },
    "pythonIndentUnit": 4
   },
   "notebookName": "2. Acesso Data Lake Storage Gen2",
   "widgets": {}
  }
 },
 "nbformat": 4,
 "nbformat_minor": 0
}
