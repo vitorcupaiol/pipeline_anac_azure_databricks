{
 "cells": [
  {
   "cell_type": "markdown",
   "metadata": {
    "application/vnd.databricks.v1+cell": {
     "cellMetadata": {},
     "inputWidgets": {},
     "nuid": "d433c1a3-3534-47e9-9396-0fd35ebb579f",
     "showTitle": false,
     "title": ""
    }
   },
   "source": [
    "\n",
    "######Referecia Databicks Azure\n",
    "\n",
    "o que é lakehouse:\n",
    "https://learn.microsoft.com/pt-br/azure/databricks/lakehouse/\n",
    "\n",
    "\n",
    "O que é arquitetura medallion do Lakehouse?\n",
    "https://learn.microsoft.com/pt-br/azure/databricks/lakehouse/medallion\n",
    "\n",
    "\n",
    "Pipelines de processamento de ingestão, ETL e fluxo com o Azure Databricks e o Delta Lake\n",
    "https://learn.microsoft.com/pt-br/azure/architecture/solution-ideas/articles/ingest-etl-stream-with-adb\n",
    "\n",
    "Grupos de recursos do Azure\n",
    "https://learn.microsoft.com/pt-br/azure/azure-resource-manager/management/manage-resource-groups-portal\n",
    "\n",
    "\n",
    "Introdução ao Azure Data Lake Storage Gen2\n",
    "https://learn.microsoft.com/pt-br/azure/storage/blobs/data-lake-storage-introduction\n",
    "\n",
    "\n",
    "Autenticação e autorização no Serviço\n",
    "https://learn.microsoft.com/pt-br/azure/app-service/overview-authentication-authorization\n",
    "\n",
    "\n",
    "O que é a gestão de identidades e acessos (IAM)?\n",
    "https://learn.microsoft.com/pt-br/azure/active-directory/fundamentals/introduction-identity-access-management\n",
    "\n",
    "ACLs (Listas de controle de acesso) no Azure Data Lake Storage Gen2\n",
    "https://learn.microsoft.com/pt-br/azure/storage/blobs/data-lake-storage-access-control\n",
    "\n",
    "Gerenciador de Armazenamento do Microsoft Azure\n",
    "https://azure.microsoft.com/pt-br/products/storage/storage-explorer\n",
    "\n",
    "Runtimes do Azure Synapse\n",
    "https://learn.microsoft.com/pt-br/azure/synapse-analytics/spark/apache-spark-version-support\n",
    "\n",
    "Runtime do Synapse para ciclo de vida e suporte do Apache Spark\n",
    "https://learn.microsoft.com/pt-br/azure/synapse-analytics/spark/runtime-for-apache-spark-lifecycle-and-supportability\n",
    "\n",
    "\n",
    "Valor Cluster \n",
    "https://azure.microsoft.com/en-gb/pricing/details/databricks/\n",
    "\n",
    "\n"
   ]
  }
 ],
 "metadata": {
  "application/vnd.databricks.v1+notebook": {
   "dashboards": [],
   "language": "python",
   "notebookMetadata": {
    "pythonIndentUnit": 4
   },
   "notebookName": "1. Referecia Databricks Azure",
   "widgets": {}
  }
 },
 "nbformat": 4,
 "nbformat_minor": 0
}
